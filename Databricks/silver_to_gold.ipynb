{
 "cells": [
  {
   "cell_type": "code",
   "execution_count": 0,
   "metadata": {
    "application/vnd.databricks.v1+cell": {
     "cellMetadata": {
      "byteLimit": 2048000,
      "rowLimit": 10000
     },
     "inputWidgets": {},
     "nuid": "97d615c4-04e4-4c23-895a-4e747a10dbfc",
     "showTitle": false,
     "tableResultSettingsMap": {},
     "title": ""
    }
   },
   "outputs": [
    {
     "output_type": "execute_result",
     "data": {
      "text/plain": [
       "[FileInfo(path='dbfs:/mnt/silver/SalesLT/Address/', name='Address/', size=0, modificationTime=1736109458000),\n",
       " FileInfo(path='dbfs:/mnt/silver/SalesLT/Customer/', name='Customer/', size=0, modificationTime=1736109461000),\n",
       " FileInfo(path='dbfs:/mnt/silver/SalesLT/CustomerAddress/', name='CustomerAddress/', size=0, modificationTime=1736109464000),\n",
       " FileInfo(path='dbfs:/mnt/silver/SalesLT/Product/', name='Product/', size=0, modificationTime=1736109467000),\n",
       " FileInfo(path='dbfs:/mnt/silver/SalesLT/ProductCategory/', name='ProductCategory/', size=0, modificationTime=1736109470000),\n",
       " FileInfo(path='dbfs:/mnt/silver/SalesLT/ProductDescription/', name='ProductDescription/', size=0, modificationTime=1736109472000),\n",
       " FileInfo(path='dbfs:/mnt/silver/SalesLT/ProductModel/', name='ProductModel/', size=0, modificationTime=1736109475000),\n",
       " FileInfo(path='dbfs:/mnt/silver/SalesLT/ProductModelProductDescription/', name='ProductModelProductDescription/', size=0, modificationTime=1736109477000),\n",
       " FileInfo(path='dbfs:/mnt/silver/SalesLT/SalesOrderDetail/', name='SalesOrderDetail/', size=0, modificationTime=1736109479000),\n",
       " FileInfo(path='dbfs:/mnt/silver/SalesLT/SalesOrderHeader/', name='SalesOrderHeader/', size=0, modificationTime=1736109158000)]"
      ]
     },
     "execution_count": 2,
     "metadata": {},
     "output_type": "execute_result"
    }
   ],
   "source": [
    "dbutils.fs.ls(\"/mnt/silver/SalesLT\")"
   ]
  },
  {
   "cell_type": "code",
   "execution_count": 0,
   "metadata": {
    "application/vnd.databricks.v1+cell": {
     "cellMetadata": {
      "byteLimit": 2048000,
      "rowLimit": 10000
     },
     "inputWidgets": {},
     "nuid": "0f6d4444-8f3a-4f53-89ae-49824a9fa8da",
     "showTitle": false,
     "tableResultSettingsMap": {},
     "title": ""
    }
   },
   "outputs": [],
   "source": [
    "from pyspark.sql.functions import col"
   ]
  },
  {
   "cell_type": "code",
   "execution_count": 0,
   "metadata": {
    "application/vnd.databricks.v1+cell": {
     "cellMetadata": {
      "byteLimit": 2048000,
      "rowLimit": 10000
     },
     "inputWidgets": {},
     "nuid": "dc45fb08-5ba3-4d4a-8461-00a3a53cc5c7",
     "showTitle": false,
     "tableResultSettingsMap": {},
     "title": ""
    }
   },
   "outputs": [],
   "source": [
    "from pyspark.sql.functions import col\n",
    "\n",
    "def rename_columns_to_snake_case(df):\n",
    "    \"\"\"\n",
    "    Convert column names from PascalCase or camelCase to snake_case in a PySpark DataFrame.\n",
    "\n",
    "    Args:\n",
    "        df (DataFrame): The input DataFrame with columns to be renamed.\n",
    "\n",
    "    Returns:\n",
    "        DataFrame: A new DataFrame with column names converted to snake_case.\n",
    "    \"\"\"\n",
    "    # Get the list of column names\n",
    "    column_names = df.columns\n",
    "\n",
    "    # Dictionary to hold old and new column name mappings\n",
    "    rename_map = {}\n",
    "\n",
    "    for old_col_name in column_names:\n",
    "        # Convert column name from PascalCase or camelCase to snake_case\n",
    "        new_col_name = \"\".join([\n",
    "            \"_\" + char.lower() if (\n",
    "                char.isupper()              # Check if the current character is uppercase\n",
    "                and idx > 0                 # Ensure it's not the first character\n",
    "                and not old_col_name[idx - 1].isupper()  # Ensure the previous character is not uppercase\n",
    "            ) else char.lower()  # Convert character to lowercase\n",
    "            for idx, char in enumerate(old_col_name)\n",
    "        ]).lstrip(\"_\")  # Remove any leading underscore\n",
    "\n",
    "        # Avoid renaming to an existing column name\n",
    "        if new_col_name in rename_map.values():\n",
    "            raise ValueError(f\"Duplicate column name found after renaming: '{new_col_name}'\")\n",
    "\n",
    "        # Map the old column name to the new column name\n",
    "        rename_map[old_col_name] = new_col_name\n",
    "\n",
    "    # Rename columns using the mapping\n",
    "    for old_col_name, new_col_name in rename_map.items():\n",
    "        df = df.withColumnRenamed(old_col_name, new_col_name)\n",
    "\n",
    "    return df"
   ]
  },
  {
   "cell_type": "code",
   "execution_count": 0,
   "metadata": {
    "application/vnd.databricks.v1+cell": {
     "cellMetadata": {
      "byteLimit": 2048000,
      "rowLimit": 10000
     },
     "inputWidgets": {},
     "nuid": "a5ae7474-4877-42ea-b56f-68f29580f060",
     "showTitle": false,
     "tableResultSettingsMap": {},
     "title": ""
    }
   },
   "outputs": [
    {
     "output_type": "execute_result",
     "data": {
      "text/plain": [
       "['Address',\n",
       " 'Customer',\n",
       " 'CustomerAddress',\n",
       " 'Product',\n",
       " 'ProductCategory',\n",
       " 'ProductDescription',\n",
       " 'ProductModel',\n",
       " 'ProductModelProductDescription',\n",
       " 'SalesOrderDetail',\n",
       " 'SalesOrderHeader']"
      ]
     },
     "execution_count": 6,
     "metadata": {},
     "output_type": "execute_result"
    }
   ],
   "source": [
    "table_name = []\n",
    "\n",
    "for i in dbutils.fs.ls(\"mnt/silver/SalesLT\"):\n",
    "    table_name.append(i.name.split(\"/\")[0])\n",
    "\n",
    "table_name"
   ]
  },
  {
   "cell_type": "code",
   "execution_count": 0,
   "metadata": {
    "application/vnd.databricks.v1+cell": {
     "cellMetadata": {
      "byteLimit": 2048000,
      "rowLimit": 10000
     },
     "inputWidgets": {},
     "nuid": "2c7f8a43-671f-4c77-930c-9b0066ff2cd0",
     "showTitle": false,
     "tableResultSettingsMap": {},
     "title": ""
    }
   },
   "outputs": [
    {
     "output_type": "execute_result",
     "data": {
      "text/plain": [
       "[FileInfo(path='dbfs:/mnt/silver/SalesLT/Address/', name='Address/', size=0, modificationTime=1736109458000),\n",
       " FileInfo(path='dbfs:/mnt/silver/SalesLT/Customer/', name='Customer/', size=0, modificationTime=1736109461000),\n",
       " FileInfo(path='dbfs:/mnt/silver/SalesLT/CustomerAddress/', name='CustomerAddress/', size=0, modificationTime=1736109464000),\n",
       " FileInfo(path='dbfs:/mnt/silver/SalesLT/Product/', name='Product/', size=0, modificationTime=1736109467000),\n",
       " FileInfo(path='dbfs:/mnt/silver/SalesLT/ProductCategory/', name='ProductCategory/', size=0, modificationTime=1736109470000),\n",
       " FileInfo(path='dbfs:/mnt/silver/SalesLT/ProductDescription/', name='ProductDescription/', size=0, modificationTime=1736109472000),\n",
       " FileInfo(path='dbfs:/mnt/silver/SalesLT/ProductModel/', name='ProductModel/', size=0, modificationTime=1736109475000),\n",
       " FileInfo(path='dbfs:/mnt/silver/SalesLT/ProductModelProductDescription/', name='ProductModelProductDescription/', size=0, modificationTime=1736109477000),\n",
       " FileInfo(path='dbfs:/mnt/silver/SalesLT/SalesOrderDetail/', name='SalesOrderDetail/', size=0, modificationTime=1736109479000),\n",
       " FileInfo(path='dbfs:/mnt/silver/SalesLT/SalesOrderHeader/', name='SalesOrderHeader/', size=0, modificationTime=1736109158000)]"
      ]
     },
     "execution_count": 7,
     "metadata": {},
     "output_type": "execute_result"
    }
   ],
   "source": [
    "dbutils.fs.ls(\"mnt/silver/SalesLT\")"
   ]
  },
  {
   "cell_type": "code",
   "execution_count": 0,
   "metadata": {
    "application/vnd.databricks.v1+cell": {
     "cellMetadata": {
      "byteLimit": 2048000,
      "rowLimit": 10000
     },
     "inputWidgets": {},
     "nuid": "cf73701c-38f2-4191-95eb-686cccf95aa1",
     "showTitle": false,
     "tableResultSettingsMap": {},
     "title": ""
    }
   },
   "outputs": [
    {
     "output_type": "stream",
     "name": "stdout",
     "output_type": "stream",
     "text": [
      "/mnt/silver/SalesLT/Address\n/mnt/silver/SalesLT/Customer\n/mnt/silver/SalesLT/CustomerAddress\n/mnt/silver/SalesLT/Product\n/mnt/silver/SalesLT/ProductCategory\n/mnt/silver/SalesLT/ProductDescription\n/mnt/silver/SalesLT/ProductModel\n/mnt/silver/SalesLT/ProductModelProductDescription\n/mnt/silver/SalesLT/SalesOrderDetail\n/mnt/silver/SalesLT/SalesOrderHeader\n"
     ]
    }
   ],
   "source": [
    "for name  in table_name:\n",
    "    path = \"/mnt/silver/SalesLT/\" + name\n",
    "    print(path)\n",
    "\n",
    "    df = spark.read.format(\"delta\").load(path)\n",
    "\n",
    "    df = rename_columns_to_snake_case(df)\n",
    "\n",
    "    output_path = \"/mnt/gold/SalesLT/\" + name + \"/\"\n",
    "    df.write.format(\"delta\").mode(\"overwrite\").save(output_path)"
   ]
  },
  {
   "cell_type": "code",
   "execution_count": 0,
   "metadata": {
    "application/vnd.databricks.v1+cell": {
     "cellMetadata": {
      "byteLimit": 2048000,
      "rowLimit": 10000
     },
     "inputWidgets": {},
     "nuid": "cab8dbba-9443-4541-baec-2f9782d36c33",
     "showTitle": false,
     "tableResultSettingsMap": {},
     "title": ""
    }
   },
   "outputs": [
    {
     "output_type": "execute_result",
     "data": {
      "text/plain": [
       "[FileInfo(path='dbfs:/mnt/gold/SalesLT/Address/', name='Address/', size=0, modificationTime=1736110609000),\n",
       " FileInfo(path='dbfs:/mnt/gold/SalesLT/Customer/', name='Customer/', size=0, modificationTime=1736110612000),\n",
       " FileInfo(path='dbfs:/mnt/gold/SalesLT/CustomerAddress/', name='CustomerAddress/', size=0, modificationTime=1736110614000),\n",
       " FileInfo(path='dbfs:/mnt/gold/SalesLT/Product/', name='Product/', size=0, modificationTime=1736110616000),\n",
       " FileInfo(path='dbfs:/mnt/gold/SalesLT/ProductCategory/', name='ProductCategory/', size=0, modificationTime=1736110618000),\n",
       " FileInfo(path='dbfs:/mnt/gold/SalesLT/ProductDescription/', name='ProductDescription/', size=0, modificationTime=1736110620000),\n",
       " FileInfo(path='dbfs:/mnt/gold/SalesLT/ProductModel/', name='ProductModel/', size=0, modificationTime=1736110622000),\n",
       " FileInfo(path='dbfs:/mnt/gold/SalesLT/ProductModelProductDescription/', name='ProductModelProductDescription/', size=0, modificationTime=1736110624000),\n",
       " FileInfo(path='dbfs:/mnt/gold/SalesLT/SalesOrderDetail/', name='SalesOrderDetail/', size=0, modificationTime=1736110626000),\n",
       " FileInfo(path='dbfs:/mnt/gold/SalesLT/SalesOrderHeader/', name='SalesOrderHeader/', size=0, modificationTime=1736110627000)]"
      ]
     },
     "execution_count": 12,
     "metadata": {},
     "output_type": "execute_result"
    }
   ],
   "source": [
    "dbutils.fs.ls(\"/mnt/gold/SalesLT\")"
   ]
  },
  {
   "cell_type": "code",
   "execution_count": 0,
   "metadata": {
    "application/vnd.databricks.v1+cell": {
     "cellMetadata": {},
     "inputWidgets": {},
     "nuid": "1ad2d42d-a0a0-4ebb-bbae-597bf61be1ed",
     "showTitle": false,
     "tableResultSettingsMap": {},
     "title": ""
    }
   },
   "outputs": [],
   "source": []
  }
 ],
 "metadata": {
  "application/vnd.databricks.v1+notebook": {
   "computePreferences": null,
   "dashboards": [],
   "environmentMetadata": {
    "base_environment": "",
    "client": "1"
   },
   "language": "python",
   "notebookMetadata": {
    "pythonIndentUnit": 4
   },
   "notebookName": "silver_to_gold",
   "widgets": {}
  },
  "language_info": {
   "name": "python"
  }
 },
 "nbformat": 4,
 "nbformat_minor": 0
}